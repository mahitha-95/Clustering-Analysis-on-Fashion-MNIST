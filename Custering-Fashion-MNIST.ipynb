{
  "nbformat": 4,
  "nbformat_minor": 0,
  "metadata": {
    "colab": {
      "name": "ML_Project-3.ipynb",
      "provenance": [],
      "collapsed_sections": []
    },
    "kernelspec": {
      "name": "python3",
      "display_name": "Python 3"
    }
  },
  "cells": [
    {
      "cell_type": "markdown",
      "metadata": {
        "id": "DMrbFT9kb5nq",
        "colab_type": "text"
      },
      "source": [
        "**Regular K-Means Clustering**"
      ]
    },
    {
      "cell_type": "code",
      "metadata": {
        "id": "fvY5ed9o9of7",
        "colab_type": "code",
        "outputId": "18936ef5-ab05-4ba6-dd40-ad5ac1320f75",
        "colab": {
          "base_uri": "https://localhost:8080/",
          "height": 96
        }
      },
      "source": [
        "import tensorflow as tf\n",
        "from tensorflow import keras\n",
        "from sklearn.cluster import KMeans\n",
        "from sklearn.metrics import accuracy_score, confusion_matrix\n",
        "from keras.datasets import mnist\n",
        "import numpy as np\n",
        "import sklearn.metrics as metrics\n",
        "\n",
        "# Load the fashion-mnist pre-shuffled train data and test data\n",
        "(x_train, y_train), (x_test, y_test) = tf.keras.datasets.fashion_mnist.load_data()\n",
        "\n",
        "print(\"x_train shape:\", x_train.shape, \"y_train shape:\", y_train.shape)"
      ],
      "execution_count": 1,
      "outputs": [
        {
          "output_type": "display_data",
          "data": {
            "text/html": [
              "<p style=\"color: red;\">\n",
              "The default version of TensorFlow in Colab will soon switch to TensorFlow 2.x.<br>\n",
              "We recommend you <a href=\"https://www.tensorflow.org/guide/migrate\" target=\"_blank\">upgrade</a> now \n",
              "or ensure your notebook will continue to use TensorFlow 1.x via the <code>%tensorflow_version 1.x</code> magic:\n",
              "<a href=\"https://colab.research.google.com/notebooks/tensorflow_version.ipynb\" target=\"_blank\">more info</a>.</p>\n"
            ],
            "text/plain": [
              "<IPython.core.display.HTML object>"
            ]
          },
          "metadata": {
            "tags": []
          }
        },
        {
          "output_type": "stream",
          "text": [
            "Using TensorFlow backend.\n"
          ],
          "name": "stderr"
        },
        {
          "output_type": "stream",
          "text": [
            "x_train shape: (60000, 28, 28) y_train shape: (60000,)\n"
          ],
          "name": "stdout"
        }
      ]
    },
    {
      "cell_type": "code",
      "metadata": {
        "id": "RaSyfizf97dn",
        "colab_type": "code",
        "outputId": "9c27cc9f-fb44-43bc-fd51-e461a960ebd7",
        "colab": {
          "base_uri": "https://localhost:8080/",
          "height": 50
        }
      },
      "source": [
        "# preprocessing the training images\n",
        "\n",
        "# convert each image to 1 dimensional array\n",
        "X = x_train.reshape(len(x_train),-1)\n",
        "Y = y_train\n",
        "\n",
        "# normalize the data to 0 - 1\n",
        "X = X.astype(float) / 255.\n",
        "\n",
        "print(X.shape)\n",
        "print(X[0].shape)"
      ],
      "execution_count": 2,
      "outputs": [
        {
          "output_type": "stream",
          "text": [
            "(60000, 784)\n",
            "(784,)\n"
          ],
          "name": "stdout"
        }
      ]
    },
    {
      "cell_type": "code",
      "metadata": {
        "id": "sd4wZaWWcQ0j",
        "colab_type": "code",
        "colab": {
          "base_uri": "https://localhost:8080/",
          "height": 50
        },
        "outputId": "97c85006-087f-475b-f585-8faa9824ef7e"
      },
      "source": [
        "# preprocessing the testing images\n",
        "\n",
        "# convert each image to 1 dimensional array\n",
        "x_test = x_test.reshape(len(x_test),-1)\n",
        "x_test = x_test.astype(float) /255.\n",
        "\n",
        "print(x_test.shape)\n",
        "print(x_test[0].shape)"
      ],
      "execution_count": 5,
      "outputs": [
        {
          "output_type": "stream",
          "text": [
            "(10000, 784)\n",
            "(784,)\n"
          ],
          "name": "stdout"
        }
      ]
    },
    {
      "cell_type": "code",
      "metadata": {
        "id": "T9E0OYhl9_IE",
        "colab_type": "code",
        "outputId": "34bcc181-9600-4d54-eedb-8f2b20eff2d5",
        "colab": {
          "base_uri": "https://localhost:8080/",
          "height": 84
        }
      },
      "source": [
        "# Training the model\n",
        "from sklearn.cluster import KMeans\n",
        "\n",
        "n_labels = len(np.unique(y_test))\n",
        "print(n_labels)\n",
        "\n",
        "# Initialize KMeans model\n",
        "kmeans = KMeans(n_clusters = n_labels)\n",
        "\n",
        "# Fit the model to the training data\n",
        "kmeans.fit(X)"
      ],
      "execution_count": 6,
      "outputs": [
        {
          "output_type": "stream",
          "text": [
            "10\n"
          ],
          "name": "stdout"
        },
        {
          "output_type": "execute_result",
          "data": {
            "text/plain": [
              "KMeans(algorithm='auto', copy_x=True, init='k-means++', max_iter=300,\n",
              "       n_clusters=10, n_init=10, n_jobs=None, precompute_distances='auto',\n",
              "       random_state=None, tol=0.0001, verbose=0)"
            ]
          },
          "metadata": {
            "tags": []
          },
          "execution_count": 6
        }
      ]
    },
    {
      "cell_type": "code",
      "metadata": {
        "id": "SUBcT09B-CSa",
        "colab_type": "code",
        "colab": {
          "base_uri": "https://localhost:8080/",
          "height": 289
        },
        "outputId": "248bdbd2-ac18-49ae-df96-6bd7827ef626"
      },
      "source": [
        "from sklearn.metrics import confusion_matrix\n",
        "import sklearn.metrics as metrics\n",
        "\n",
        "predictions = kmeans.predict(x_test)\n",
        "cm = confusion_matrix(y_test, predictions)\n",
        "print(\"Confusion matrix is\\n\", cm)\n",
        "print('Accuracy: {}\\n'.format(metrics.normalized_mutual_info_score(y_test, predictions)))"
      ],
      "execution_count": 11,
      "outputs": [
        {
          "output_type": "stream",
          "text": [
            "Confusion matrix is\n",
            " [[268   7  36   0 588  66  24   1   5   5]\n",
            " [ 30  11   2   0  49  19 889   0   0   0]\n",
            " [326 289 313   0  14  48   4   0   2   4]\n",
            " [135  12   3   0 281  74 490   0   2   3]\n",
            " [132 510 188   0 102  36  25   0   2   5]\n",
            " [  8   0   0  79   0 690   0 220   3   0]\n",
            " [356 194 144   0 185  97  11   0  13   0]\n",
            " [  0   0   0  50   0  84   0 865   1   0]\n",
            " [ 56   7  61   0   3  69   4  48 348 404]\n",
            " [  7   1   1 844   0  36   0 107   2   2]]\n",
            "Accuracy: 0.514145389900235\n",
            "\n"
          ],
          "name": "stdout"
        },
        {
          "output_type": "stream",
          "text": [
            "/usr/local/lib/python3.6/dist-packages/sklearn/metrics/cluster/supervised.py:859: FutureWarning: The behavior of NMI will change in version 0.22. To match the behavior of 'v_measure_score', NMI will use average_method='arithmetic' by default.\n",
            "  FutureWarning)\n"
          ],
          "name": "stderr"
        }
      ]
    },
    {
      "cell_type": "markdown",
      "metadata": {
        "id": "vEkxtkD1_kaN",
        "colab_type": "text"
      },
      "source": [
        "**Auto-Encoder based K-Means clustering**"
      ]
    },
    {
      "cell_type": "code",
      "metadata": {
        "id": "9XGv_cde-ulH",
        "colab_type": "code",
        "outputId": "4c46e777-d4bb-4a38-ae0c-e1d323f41eae",
        "colab": {
          "base_uri": "https://localhost:8080/",
          "height": 34
        }
      },
      "source": [
        "# Load the fashion-mnist pre-shuffled train data and test data\n",
        "(x_train, y_train), (x_test, y_test) = tf.keras.datasets.fashion_mnist.load_data()\n",
        "\n",
        "print(\"x_train shape:\", x_train.shape, \"y_train shape:\", y_train.shape)"
      ],
      "execution_count": 12,
      "outputs": [
        {
          "output_type": "stream",
          "text": [
            "x_train shape: (60000, 28, 28) y_train shape: (60000,)\n"
          ],
          "name": "stdout"
        }
      ]
    },
    {
      "cell_type": "code",
      "metadata": {
        "id": "qbOhZApQ_usY",
        "colab_type": "code",
        "colab": {
          "base_uri": "https://localhost:8080/",
          "height": 50
        },
        "outputId": "5a59a4fa-133c-4eb8-98bf-80167eb44dbf"
      },
      "source": [
        "# Reshape and Rescale the images\n",
        "\n",
        "x_train = x_train.astype('float32')/255.\n",
        "x_test = x_test.astype('float32')/255.\n",
        "\n",
        "x_train = x_train.reshape((len(x_train),np.prod(x_train.shape[1:])))\n",
        "x_test = x_test.reshape((len(x_test),np.prod(x_test.shape[1:])))\n",
        "\n",
        "print(x_train.shape)\n",
        "print(x_test.shape)"
      ],
      "execution_count": 13,
      "outputs": [
        {
          "output_type": "stream",
          "text": [
            "(60000, 784)\n",
            "(10000, 784)\n"
          ],
          "name": "stdout"
        }
      ]
    },
    {
      "cell_type": "code",
      "metadata": {
        "id": "0SIH2CSg_wY1",
        "colab_type": "code",
        "outputId": "418a263b-a9c5-47bb-c14e-4ca2c337be7b",
        "colab": {
          "base_uri": "https://localhost:8080/",
          "height": 1000
        }
      },
      "source": [
        "import keras\n",
        "from keras.models import Sequential\n",
        "from keras.layers import Input, Dense, Dropout, Conv2D, MaxPool2D, UpSampling2D, Activation\n",
        "from keras import backend as K\n",
        "from sklearn.cluster import KMeans\n",
        "from sklearn.metrics import confusion_matrix\n",
        "from keras import regularizers\n",
        "from keras.models import Model\n",
        "\n",
        "# Build the autoencoder\n",
        "\n",
        "encoding_dim = 32\n",
        "input_img = Input(shape=(784,))\n",
        "encoded = Dense(encoding_dim,activation='selu',kernel_regularizer=regularizers.l2(0.01))(input_img)\n",
        "decoded = Dense(784, activation='sigmoid')(encoded)\n",
        "autoencoder = Model(input_img,decoded)\n",
        "encoder = Model(input_img,encoded)\n",
        "encoded_input = Input(shape=(encoding_dim,))\n",
        "decoder_layer = autoencoder.layers[-1]\n",
        "decoder = Model(encoded_input, decoder_layer(encoded_input))\n",
        "autoencoder.compile(optimizer='adam', loss='binary_crossentropy')\n",
        "autoencoder.fit(x_train,x_train, epochs=60, batch_size=2056, shuffle=True, validation_data=(x_test,x_test))\n",
        "autoencoder.summary()\n",
        "encoded_images = encoder.predict(x_test)"
      ],
      "execution_count": 17,
      "outputs": [
        {
          "output_type": "stream",
          "text": [
            "WARNING:tensorflow:From /usr/local/lib/python3.6/dist-packages/keras/optimizers.py:793: The name tf.train.Optimizer is deprecated. Please use tf.compat.v1.train.Optimizer instead.\n",
            "\n",
            "WARNING:tensorflow:From /usr/local/lib/python3.6/dist-packages/keras/backend/tensorflow_backend.py:3657: The name tf.log is deprecated. Please use tf.math.log instead.\n",
            "\n",
            "WARNING:tensorflow:From /usr/local/lib/python3.6/dist-packages/keras/backend/tensorflow_backend.py:1033: The name tf.assign_add is deprecated. Please use tf.compat.v1.assign_add instead.\n",
            "\n",
            "WARNING:tensorflow:From /usr/local/lib/python3.6/dist-packages/keras/backend/tensorflow_backend.py:1020: The name tf.assign is deprecated. Please use tf.compat.v1.assign instead.\n",
            "\n",
            "WARNING:tensorflow:From /usr/local/lib/python3.6/dist-packages/keras/backend/tensorflow_backend.py:3005: The name tf.Session is deprecated. Please use tf.compat.v1.Session instead.\n",
            "\n",
            "Train on 60000 samples, validate on 10000 samples\n",
            "Epoch 1/60\n",
            "WARNING:tensorflow:From /usr/local/lib/python3.6/dist-packages/keras/backend/tensorflow_backend.py:190: The name tf.get_default_session is deprecated. Please use tf.compat.v1.get_default_session instead.\n",
            "\n",
            "WARNING:tensorflow:From /usr/local/lib/python3.6/dist-packages/keras/backend/tensorflow_backend.py:197: The name tf.ConfigProto is deprecated. Please use tf.compat.v1.ConfigProto instead.\n",
            "\n",
            "WARNING:tensorflow:From /usr/local/lib/python3.6/dist-packages/keras/backend/tensorflow_backend.py:207: The name tf.global_variables is deprecated. Please use tf.compat.v1.global_variables instead.\n",
            "\n",
            "WARNING:tensorflow:From /usr/local/lib/python3.6/dist-packages/keras/backend/tensorflow_backend.py:216: The name tf.is_variable_initialized is deprecated. Please use tf.compat.v1.is_variable_initialized instead.\n",
            "\n",
            "WARNING:tensorflow:From /usr/local/lib/python3.6/dist-packages/keras/backend/tensorflow_backend.py:223: The name tf.variables_initializer is deprecated. Please use tf.compat.v1.variables_initializer instead.\n",
            "\n",
            "60000/60000 [==============================] - 3s 48us/step - loss: 1.0169 - val_loss: 0.7437\n",
            "Epoch 2/60\n",
            "60000/60000 [==============================] - 3s 43us/step - loss: 0.6273 - val_loss: 0.5390\n",
            "Epoch 3/60\n",
            "60000/60000 [==============================] - 3s 42us/step - loss: 0.5001 - val_loss: 0.4691\n",
            "Epoch 4/60\n",
            "60000/60000 [==============================] - 2s 41us/step - loss: 0.4518 - val_loss: 0.4382\n",
            "Epoch 5/60\n",
            "60000/60000 [==============================] - 3s 45us/step - loss: 0.4290 - val_loss: 0.4223\n",
            "Epoch 6/60\n",
            "60000/60000 [==============================] - 2s 42us/step - loss: 0.4160 - val_loss: 0.4117\n",
            "Epoch 7/60\n",
            "60000/60000 [==============================] - 2s 42us/step - loss: 0.4065 - val_loss: 0.4033\n",
            "Epoch 8/60\n",
            "60000/60000 [==============================] - 3s 42us/step - loss: 0.3987 - val_loss: 0.3964\n",
            "Epoch 9/60\n",
            "60000/60000 [==============================] - 3s 43us/step - loss: 0.3922 - val_loss: 0.3905\n",
            "Epoch 10/60\n",
            "60000/60000 [==============================] - 3s 43us/step - loss: 0.3867 - val_loss: 0.3854\n",
            "Epoch 11/60\n",
            "60000/60000 [==============================] - 3s 49us/step - loss: 0.3818 - val_loss: 0.3809\n",
            "Epoch 12/60\n",
            "60000/60000 [==============================] - 2s 41us/step - loss: 0.3774 - val_loss: 0.3768\n",
            "Epoch 13/60\n",
            "60000/60000 [==============================] - 2s 41us/step - loss: 0.3735 - val_loss: 0.3731\n",
            "Epoch 14/60\n",
            "60000/60000 [==============================] - 2s 41us/step - loss: 0.3700 - val_loss: 0.3699\n",
            "Epoch 15/60\n",
            "60000/60000 [==============================] - 3s 42us/step - loss: 0.3668 - val_loss: 0.3669\n",
            "Epoch 16/60\n",
            "60000/60000 [==============================] - 3s 42us/step - loss: 0.3639 - val_loss: 0.3641\n",
            "Epoch 17/60\n",
            "60000/60000 [==============================] - 3s 44us/step - loss: 0.3612 - val_loss: 0.3616\n",
            "Epoch 18/60\n",
            "60000/60000 [==============================] - 3s 42us/step - loss: 0.3588 - val_loss: 0.3593\n",
            "Epoch 19/60\n",
            "60000/60000 [==============================] - 2s 41us/step - loss: 0.3566 - val_loss: 0.3572\n",
            "Epoch 20/60\n",
            "60000/60000 [==============================] - 2s 42us/step - loss: 0.3546 - val_loss: 0.3554\n",
            "Epoch 21/60\n",
            "60000/60000 [==============================] - 3s 45us/step - loss: 0.3528 - val_loss: 0.3535\n",
            "Epoch 22/60\n",
            "60000/60000 [==============================] - 2s 42us/step - loss: 0.3510 - val_loss: 0.3520\n",
            "Epoch 23/60\n",
            "60000/60000 [==============================] - 2s 41us/step - loss: 0.3495 - val_loss: 0.3505\n",
            "Epoch 24/60\n",
            "60000/60000 [==============================] - 2s 41us/step - loss: 0.3481 - val_loss: 0.3491\n",
            "Epoch 25/60\n",
            "60000/60000 [==============================] - 2s 41us/step - loss: 0.3467 - val_loss: 0.3478\n",
            "Epoch 26/60\n",
            "60000/60000 [==============================] - 3s 42us/step - loss: 0.3455 - val_loss: 0.3468\n",
            "Epoch 27/60\n",
            "60000/60000 [==============================] - 3s 45us/step - loss: 0.3445 - val_loss: 0.3458\n",
            "Epoch 28/60\n",
            "60000/60000 [==============================] - 3s 42us/step - loss: 0.3435 - val_loss: 0.3447\n",
            "Epoch 29/60\n",
            "60000/60000 [==============================] - 3s 47us/step - loss: 0.3425 - val_loss: 0.3437\n",
            "Epoch 30/60\n",
            "60000/60000 [==============================] - 3s 46us/step - loss: 0.3416 - val_loss: 0.3428\n",
            "Epoch 31/60\n",
            "60000/60000 [==============================] - 2s 41us/step - loss: 0.3407 - val_loss: 0.3420\n",
            "Epoch 32/60\n",
            "60000/60000 [==============================] - 2s 41us/step - loss: 0.3400 - val_loss: 0.3413\n",
            "Epoch 33/60\n",
            "60000/60000 [==============================] - 2s 41us/step - loss: 0.3391 - val_loss: 0.3405\n",
            "Epoch 34/60\n",
            "60000/60000 [==============================] - 2s 41us/step - loss: 0.3385 - val_loss: 0.3398\n",
            "Epoch 35/60\n",
            "60000/60000 [==============================] - 3s 42us/step - loss: 0.3377 - val_loss: 0.3394\n",
            "Epoch 36/60\n",
            "60000/60000 [==============================] - 2s 41us/step - loss: 0.3370 - val_loss: 0.3387\n",
            "Epoch 37/60\n",
            "60000/60000 [==============================] - 3s 42us/step - loss: 0.3365 - val_loss: 0.3379\n",
            "Epoch 38/60\n",
            "60000/60000 [==============================] - 3s 42us/step - loss: 0.3358 - val_loss: 0.3373\n",
            "Epoch 39/60\n",
            "60000/60000 [==============================] - 3s 45us/step - loss: 0.3352 - val_loss: 0.3367\n",
            "Epoch 40/60\n",
            "60000/60000 [==============================] - 3s 42us/step - loss: 0.3346 - val_loss: 0.3361\n",
            "Epoch 41/60\n",
            "60000/60000 [==============================] - 3s 42us/step - loss: 0.3340 - val_loss: 0.3366\n",
            "Epoch 42/60\n",
            "60000/60000 [==============================] - 3s 48us/step - loss: 0.3337 - val_loss: 0.3352\n",
            "Epoch 43/60\n",
            "60000/60000 [==============================] - 3s 45us/step - loss: 0.3330 - val_loss: 0.3348\n",
            "Epoch 44/60\n",
            "60000/60000 [==============================] - 3s 45us/step - loss: 0.3326 - val_loss: 0.3340\n",
            "Epoch 45/60\n",
            "60000/60000 [==============================] - 3s 42us/step - loss: 0.3319 - val_loss: 0.3335\n",
            "Epoch 46/60\n",
            "60000/60000 [==============================] - 2s 42us/step - loss: 0.3314 - val_loss: 0.3330\n",
            "Epoch 47/60\n",
            "60000/60000 [==============================] - 2s 41us/step - loss: 0.3310 - val_loss: 0.3325\n",
            "Epoch 48/60\n",
            "60000/60000 [==============================] - 2s 42us/step - loss: 0.3306 - val_loss: 0.3321\n",
            "Epoch 49/60\n",
            "60000/60000 [==============================] - 3s 42us/step - loss: 0.3301 - val_loss: 0.3316\n",
            "Epoch 50/60\n",
            "60000/60000 [==============================] - 2s 41us/step - loss: 0.3295 - val_loss: 0.3312\n",
            "Epoch 51/60\n",
            "60000/60000 [==============================] - 2s 41us/step - loss: 0.3291 - val_loss: 0.3309\n",
            "Epoch 52/60\n",
            "60000/60000 [==============================] - 3s 45us/step - loss: 0.3287 - val_loss: 0.3303\n",
            "Epoch 53/60\n",
            "60000/60000 [==============================] - 3s 42us/step - loss: 0.3283 - val_loss: 0.3300\n",
            "Epoch 54/60\n",
            "60000/60000 [==============================] - 2s 41us/step - loss: 0.3279 - val_loss: 0.3297\n",
            "Epoch 55/60\n",
            "60000/60000 [==============================] - 3s 42us/step - loss: 0.3275 - val_loss: 0.3293\n",
            "Epoch 56/60\n",
            "60000/60000 [==============================] - 3s 45us/step - loss: 0.3272 - val_loss: 0.3290\n",
            "Epoch 57/60\n",
            "60000/60000 [==============================] - 3s 45us/step - loss: 0.3267 - val_loss: 0.3284\n",
            "Epoch 58/60\n",
            "60000/60000 [==============================] - 2s 42us/step - loss: 0.3263 - val_loss: 0.3281\n",
            "Epoch 59/60\n",
            "60000/60000 [==============================] - 3s 42us/step - loss: 0.3260 - val_loss: 0.3278\n",
            "Epoch 60/60\n",
            "60000/60000 [==============================] - 2s 41us/step - loss: 0.3256 - val_loss: 0.3274\n",
            "Model: \"model_1\"\n",
            "_________________________________________________________________\n",
            "Layer (type)                 Output Shape              Param #   \n",
            "=================================================================\n",
            "input_3 (InputLayer)         (None, 784)               0         \n",
            "_________________________________________________________________\n",
            "dense_3 (Dense)              (None, 32)                25120     \n",
            "_________________________________________________________________\n",
            "dense_4 (Dense)              (None, 784)               25872     \n",
            "=================================================================\n",
            "Total params: 50,992\n",
            "Trainable params: 50,992\n",
            "Non-trainable params: 0\n",
            "_________________________________________________________________\n"
          ],
          "name": "stdout"
        }
      ]
    },
    {
      "cell_type": "code",
      "metadata": {
        "id": "J_vdwwR2exwF",
        "colab_type": "code",
        "colab": {
          "base_uri": "https://localhost:8080/",
          "height": 272
        },
        "outputId": "bb8c97c1-3549-49e1-eff1-30cb954b521d"
      },
      "source": [
        "kmeans = KMeans(n_clusters=10)\n",
        "kmeans.fit(encoded_images)\n",
        "predicted_labels = kmeans.predict(encoded_images)\n",
        "\n",
        "cm = confusion_matrix(y_test, predicted_labels)\n",
        "print(\"CM\",cm)\n",
        "print('Accuracy: {}\\n'.format(metrics.normalized_mutual_info_score(y_test, predicted_labels)))"
      ],
      "execution_count": 18,
      "outputs": [
        {
          "output_type": "stream",
          "text": [
            "CM [[  7   2 286   0 618  26   6   2   3  50]\n",
            " [  8   0  38   0  51 897   1   1   0   4]\n",
            " [360   0 306   0  15   3   6   4   3 303]\n",
            " [ 13   0 198   0 263 519   2   1   1   3]\n",
            " [582   0 141   0 108  26   2   0   5 136]\n",
            " [  0 523   8  54   0   0   3 412   0   0]\n",
            " [243   1 376   0 196  12  14  13   2 143]\n",
            " [  0 920   0  65   0   0   0  15   0   0]\n",
            " [  7  40  93   2   3   4 359  37 390  65]\n",
            " [  2  81   5 839   4   0   2  64   1   2]]\n",
            "Accuracy: 0.5390553926322948\n",
            "\n"
          ],
          "name": "stdout"
        },
        {
          "output_type": "stream",
          "text": [
            "/usr/local/lib/python3.6/dist-packages/sklearn/metrics/cluster/supervised.py:859: FutureWarning: The behavior of NMI will change in version 0.22. To match the behavior of 'v_measure_score', NMI will use average_method='arithmetic' by default.\n",
            "  FutureWarning)\n"
          ],
          "name": "stderr"
        }
      ]
    },
    {
      "cell_type": "code",
      "metadata": {
        "id": "LRXpR5zL_x9T",
        "colab_type": "code",
        "outputId": "191b1ce5-72ec-4bc9-965f-57074181da3b",
        "colab": {
          "base_uri": "https://localhost:8080/",
          "height": 430
        }
      },
      "source": [
        "import matplotlib.pyplot as plt\n",
        "%matplotlib inline\n",
        "\n",
        "# Train the model\n",
        "history = autoencoder.fit(x_train, x_train, epochs=4, batch_size=64, verbose=1)\n",
        "\n",
        "# summarize history for loss\n",
        "plt.plot(history.history['loss'])\n",
        "plt.title('Model loss')\n",
        "plt.ylabel('Training Loss')\n",
        "plt.xlabel('Epochs')\n",
        "plt.show()"
      ],
      "execution_count": 19,
      "outputs": [
        {
          "output_type": "stream",
          "text": [
            "Epoch 1/4\n",
            "60000/60000 [==============================] - 5s 78us/step - loss: 0.3230\n",
            "Epoch 2/4\n",
            "60000/60000 [==============================] - 5s 75us/step - loss: 0.3178\n",
            "Epoch 3/4\n",
            "60000/60000 [==============================] - 5s 77us/step - loss: 0.3145\n",
            "Epoch 4/4\n",
            "60000/60000 [==============================] - 5s 84us/step - loss: 0.3116\n"
          ],
          "name": "stdout"
        },
        {
          "output_type": "display_data",
          "data": {
            "image/png": "[encoded data removed]",
            "text/plain": [
              "<Figure size 432x288 with 1 Axes>"
            ]
          },
          "metadata": {
            "tags": []
          }
        }
      ]
    },
    {
      "cell_type": "code",
      "metadata": {
        "id": "qhNO5BcMfTdg",
        "colab_type": "code",
        "colab": {
          "base_uri": "https://localhost:8080/",
          "height": 430
        },
        "outputId": "f3bd10b0-069e-499c-ed06-61743a1d85ea"
      },
      "source": [
        "# Train the model\n",
        "history = autoencoder.fit(x_test, x_test, epochs=4, batch_size=64, verbose=1)\n",
        "\n",
        "# summarize history for loss\n",
        "plt.plot(history.history['loss'])\n",
        "plt.title('Model loss')\n",
        "plt.ylabel('Testing Loss')\n",
        "plt.xlabel('Epochs')\n",
        "plt.show()"
      ],
      "execution_count": 20,
      "outputs": [
        {
          "output_type": "stream",
          "text": [
            "Epoch 1/4\n",
            "10000/10000 [==============================] - 1s 77us/step - loss: 0.3123\n",
            "Epoch 2/4\n",
            "10000/10000 [==============================] - 1s 76us/step - loss: 0.3121\n",
            "Epoch 3/4\n",
            "10000/10000 [==============================] - 1s 76us/step - loss: 0.3113\n",
            "Epoch 4/4\n",
            "10000/10000 [==============================] - 1s 77us/step - loss: 0.3111\n"
          ],
          "name": "stdout"
        },
        {
          "output_type": "display_data",
          "data": {
            "image/png": "[encoded data removed]",
            "text/plain": [
              "<Figure size 432x288 with 1 Axes>"
            ]
          },
          "metadata": {
            "tags": []
          }
        }
      ]
    },
    {
      "cell_type": "code",
      "metadata": {
        "id": "iWlXeM7ZOfar",
        "colab_type": "code",
        "colab": {
          "base_uri": "https://localhost:8080/",
          "height": 430
        },
        "outputId": "3ed73a6b-2d64-4471-91e1-44160889cdd1"
      },
      "source": [
        "import matplotlib.pyplot as plt\n",
        "%matplotlib inline\n",
        "\n",
        "\n",
        "history_validation = autoencoder.fit(x_test, x_test, epochs=4, batch_size=64, verbose=1)\n",
        "\n",
        "# summarize history for loss\n",
        "plt.plot(history.history['loss'])\n",
        "plt.title('Model loss')\n",
        "plt.ylabel('Validation Loss')\n",
        "plt.xlabel('Epochs')\n",
        "plt.legend(['Test'], loc='upper left')\n",
        "plt.show()"
      ],
      "execution_count": 22,
      "outputs": [
        {
          "output_type": "stream",
          "text": [
            "Epoch 1/4\n",
            "10000/10000 [==============================] - 1s 75us/step - loss: 0.3105\n",
            "Epoch 2/4\n",
            "10000/10000 [==============================] - 1s 76us/step - loss: 0.3103\n",
            "Epoch 3/4\n",
            "10000/10000 [==============================] - 1s 74us/step - loss: 0.3101\n",
            "Epoch 4/4\n",
            "10000/10000 [==============================] - 1s 77us/step - loss: 0.3098\n"
          ],
          "name": "stdout"
        },
        {
          "output_type": "display_data",
          "data": {
            "image/png": "[encoded data removed]",
            "text/plain": [
              "<Figure size 432x288 with 1 Axes>"
            ]
          },
          "metadata": {
            "tags": []
          }
        }
      ]
    },
    {
      "cell_type": "markdown",
      "metadata": {
        "id": "uyNn9LtyHOIW",
        "colab_type": "text"
      },
      "source": [
        "**Auto-encoder with Gaussian mixture model clustering**"
      ]
    },
    {
      "cell_type": "code",
      "metadata": {
        "id": "hWqYDmfKQb75",
        "colab_type": "code",
        "outputId": "555449fb-07a6-438b-a0d9-5a914f232fe2",
        "colab": {
          "base_uri": "https://localhost:8080/",
          "height": 118
        }
      },
      "source": [
        "!pip install gmm_mml"
      ],
      "execution_count": 23,
      "outputs": [
        {
          "output_type": "stream",
          "text": [
            "Requirement already satisfied: gmm_mml in /usr/local/lib/python3.6/dist-packages (0.11)\n",
            "Requirement already satisfied: sklearn in /usr/local/lib/python3.6/dist-packages (from gmm_mml) (0.0)\n",
            "Requirement already satisfied: numpy in /usr/local/lib/python3.6/dist-packages (from gmm_mml) (1.17.3)\n",
            "Requirement already satisfied: scipy in /usr/local/lib/python3.6/dist-packages (from gmm_mml) (1.3.1)\n",
            "Requirement already satisfied: scikit-learn in /usr/local/lib/python3.6/dist-packages (from sklearn->gmm_mml) (0.21.3)\n",
            "Requirement already satisfied: joblib>=0.11 in /usr/local/lib/python3.6/dist-packages (from scikit-learn->sklearn->gmm_mml) (0.14.0)\n"
          ],
          "name": "stdout"
        }
      ]
    },
    {
      "cell_type": "code",
      "metadata": {
        "id": "ifWKQmcbQjOz",
        "colab_type": "code",
        "outputId": "eb54c339-99d9-4776-a1bf-99ff9c095216",
        "colab": {
          "base_uri": "https://localhost:8080/",
          "height": 1000
        }
      },
      "source": [
        "from keras.layers import Input, Dense\n",
        "from keras.models import Model\n",
        "from keras import regularizers\n",
        "from keras.datasets import mnist\n",
        "import numpy as np\n",
        "import pandas as pd\n",
        "from gmm_mml import GmmMml\n",
        "from keras.callbacks import TensorBoard\n",
        "import tensorflow as tf\n",
        "\n",
        "(x_train, y_train), (x_test, y_test) = tf.keras.datasets.fashion_mnist.load_data()\n",
        "\n",
        "x_train = x_train.astype('float32') / 255.\n",
        "x_test = x_test.astype('float32') / 255.\n",
        "\n",
        "x_train = x_train.reshape((len(x_train), np.prod(x_train.shape[1:])))\n",
        "x_test = x_test.reshape((len(x_test), np.prod(x_test.shape[1:])))\n",
        "\n",
        "# this is the size of our encoded representations\n",
        "encoding_dim = 32\n",
        "# this is our input placeholder\n",
        "input_img = Input(shape=(784,))\n",
        "\n",
        "encoded = Dense(encoding_dim,activation='selu',kernel_regularizer=regularizers.l2(0.01))(input_img)\n",
        "decoded = Dense(784, activation='sigmoid')(encoded)\n",
        "\n",
        "# this model maps an input to its reconstruction\n",
        "autoencoder = Model(input_img,decoded)\n",
        "\n",
        "# this model maps an input to its encoded representation\n",
        "encoder = Model(input_img,encoded)\n",
        "\n",
        "# create a placeholder for an encoded (32-dimensional) input\n",
        "encoded_input = Input(shape=(encoding_dim,))\n",
        "\n",
        "# retrieve the last layer of the autoencoder model\n",
        "decoder_layer = autoencoder.layers[-1]\n",
        "decoder = Model(encoded_input, decoder_layer(encoded_input))\n",
        "\n",
        "autoencoder.compile(optimizer='adam', loss='binary_crossentropy')\n",
        "\n",
        "autoencoder.fit(x_train,x_train, epochs=60, batch_size=2056, shuffle=True, validation_data=(x_test,x_test))\n",
        "autoencoder.summary()"
      ],
      "execution_count": 24,
      "outputs": [
        {
          "output_type": "stream",
          "text": [
            "Train on 60000 samples, validate on 10000 samples\n",
            "Epoch 1/60\n",
            "60000/60000 [==============================] - 3s 46us/step - loss: 1.0081 - val_loss: 0.7394\n",
            "Epoch 2/60\n",
            "60000/60000 [==============================] - 3s 43us/step - loss: 0.6240 - val_loss: 0.5358\n",
            "Epoch 3/60\n",
            "60000/60000 [==============================] - 3s 42us/step - loss: 0.4960 - val_loss: 0.4647\n",
            "Epoch 4/60\n",
            "60000/60000 [==============================] - 3s 42us/step - loss: 0.4485 - val_loss: 0.4363\n",
            "Epoch 5/60\n",
            "60000/60000 [==============================] - 2s 42us/step - loss: 0.4281 - val_loss: 0.4222\n",
            "Epoch 6/60\n",
            "60000/60000 [==============================] - 3s 42us/step - loss: 0.4165 - val_loss: 0.4128\n",
            "Epoch 7/60\n",
            "60000/60000 [==============================] - 2s 42us/step - loss: 0.4079 - val_loss: 0.4051\n",
            "Epoch 8/60\n",
            "60000/60000 [==============================] - 3s 42us/step - loss: 0.4006 - val_loss: 0.3983\n",
            "Epoch 9/60\n",
            "60000/60000 [==============================] - 3s 42us/step - loss: 0.3942 - val_loss: 0.3925\n",
            "Epoch 10/60\n",
            "60000/60000 [==============================] - 2s 41us/step - loss: 0.3886 - val_loss: 0.3874\n",
            "Epoch 11/60\n",
            "60000/60000 [==============================] - 2s 41us/step - loss: 0.3838 - val_loss: 0.3829\n",
            "Epoch 12/60\n",
            "60000/60000 [==============================] - 2s 41us/step - loss: 0.3796 - val_loss: 0.3790\n",
            "Epoch 13/60\n",
            "60000/60000 [==============================] - 3s 42us/step - loss: 0.3757 - val_loss: 0.3753\n",
            "Epoch 14/60\n",
            "60000/60000 [==============================] - 3s 46us/step - loss: 0.3722 - val_loss: 0.3720\n",
            "Epoch 15/60\n",
            "60000/60000 [==============================] - 2s 41us/step - loss: 0.3689 - val_loss: 0.3689\n",
            "Epoch 16/60\n",
            "60000/60000 [==============================] - 2s 41us/step - loss: 0.3660 - val_loss: 0.3661\n",
            "Epoch 17/60\n",
            "60000/60000 [==============================] - 3s 42us/step - loss: 0.3632 - val_loss: 0.3636\n",
            "Epoch 18/60\n",
            "60000/60000 [==============================] - 3s 42us/step - loss: 0.3607 - val_loss: 0.3612\n",
            "Epoch 19/60\n",
            "60000/60000 [==============================] - 3s 47us/step - loss: 0.3584 - val_loss: 0.3590\n",
            "Epoch 20/60\n",
            "60000/60000 [==============================] - 2s 41us/step - loss: 0.3564 - val_loss: 0.3573\n",
            "Epoch 21/60\n",
            "60000/60000 [==============================] - 3s 46us/step - loss: 0.3545 - val_loss: 0.3551\n",
            "Epoch 22/60\n",
            "60000/60000 [==============================] - 2s 41us/step - loss: 0.3526 - val_loss: 0.3535\n",
            "Epoch 23/60\n",
            "60000/60000 [==============================] - 2s 42us/step - loss: 0.3510 - val_loss: 0.3520\n",
            "Epoch 24/60\n",
            "60000/60000 [==============================] - 2s 41us/step - loss: 0.3495 - val_loss: 0.3507\n",
            "Epoch 25/60\n",
            "60000/60000 [==============================] - 3s 44us/step - loss: 0.3483 - val_loss: 0.3492\n",
            "Epoch 26/60\n",
            "60000/60000 [==============================] - 2s 41us/step - loss: 0.3469 - val_loss: 0.3480\n",
            "Epoch 27/60\n",
            "60000/60000 [==============================] - 2s 41us/step - loss: 0.3458 - val_loss: 0.3470\n",
            "Epoch 28/60\n",
            "60000/60000 [==============================] - 2s 42us/step - loss: 0.3447 - val_loss: 0.3459\n",
            "Epoch 29/60\n",
            "60000/60000 [==============================] - 3s 42us/step - loss: 0.3438 - val_loss: 0.3450\n",
            "Epoch 30/60\n",
            "60000/60000 [==============================] - 3s 42us/step - loss: 0.3428 - val_loss: 0.3441\n",
            "Epoch 31/60\n",
            "60000/60000 [==============================] - 3s 44us/step - loss: 0.3419 - val_loss: 0.3434\n",
            "Epoch 32/60\n",
            "60000/60000 [==============================] - 3s 43us/step - loss: 0.3411 - val_loss: 0.3424\n",
            "Epoch 33/60\n",
            "60000/60000 [==============================] - 2s 41us/step - loss: 0.3402 - val_loss: 0.3416\n",
            "Epoch 34/60\n",
            "60000/60000 [==============================] - 2s 41us/step - loss: 0.3395 - val_loss: 0.3409\n",
            "Epoch 35/60\n",
            "60000/60000 [==============================] - 2s 41us/step - loss: 0.3388 - val_loss: 0.3401\n",
            "Epoch 36/60\n",
            "60000/60000 [==============================] - 2s 41us/step - loss: 0.3380 - val_loss: 0.3395\n",
            "Epoch 37/60\n",
            "60000/60000 [==============================] - 2s 41us/step - loss: 0.3374 - val_loss: 0.3388\n",
            "Epoch 38/60\n",
            "60000/60000 [==============================] - 2s 41us/step - loss: 0.3367 - val_loss: 0.3382\n",
            "Epoch 39/60\n",
            "60000/60000 [==============================] - 3s 42us/step - loss: 0.3361 - val_loss: 0.3375\n",
            "Epoch 40/60\n",
            "60000/60000 [==============================] - 3s 45us/step - loss: 0.3354 - val_loss: 0.3369\n",
            "Epoch 41/60\n",
            "60000/60000 [==============================] - 3s 45us/step - loss: 0.3349 - val_loss: 0.3366\n",
            "Epoch 42/60\n",
            "60000/60000 [==============================] - 2s 41us/step - loss: 0.3344 - val_loss: 0.3358\n",
            "Epoch 43/60\n",
            "60000/60000 [==============================] - 3s 45us/step - loss: 0.3337 - val_loss: 0.3353\n",
            "Epoch 44/60\n",
            "60000/60000 [==============================] - 2s 42us/step - loss: 0.3333 - val_loss: 0.3348\n",
            "Epoch 45/60\n",
            "60000/60000 [==============================] - 2s 41us/step - loss: 0.3327 - val_loss: 0.3343\n",
            "Epoch 46/60\n",
            "60000/60000 [==============================] - 2s 42us/step - loss: 0.3322 - val_loss: 0.3337\n",
            "Epoch 47/60\n",
            "60000/60000 [==============================] - 2s 41us/step - loss: 0.3317 - val_loss: 0.3333\n",
            "Epoch 48/60\n",
            "60000/60000 [==============================] - 2s 42us/step - loss: 0.3312 - val_loss: 0.3329\n",
            "Epoch 49/60\n",
            "60000/60000 [==============================] - 3s 44us/step - loss: 0.3307 - val_loss: 0.3324\n",
            "Epoch 50/60\n",
            "60000/60000 [==============================] - 3s 42us/step - loss: 0.3306 - val_loss: 0.3319\n",
            "Epoch 51/60\n",
            "60000/60000 [==============================] - 3s 43us/step - loss: 0.3299 - val_loss: 0.3315\n",
            "Epoch 52/60\n",
            "60000/60000 [==============================] - 2s 41us/step - loss: 0.3293 - val_loss: 0.3310\n",
            "Epoch 53/60\n",
            "60000/60000 [==============================] - 2s 41us/step - loss: 0.3289 - val_loss: 0.3308\n",
            "Epoch 54/60\n",
            "60000/60000 [==============================] - 2s 41us/step - loss: 0.3285 - val_loss: 0.3302\n",
            "Epoch 55/60\n",
            "60000/60000 [==============================] - 3s 45us/step - loss: 0.3281 - val_loss: 0.3299\n",
            "Epoch 56/60\n",
            "60000/60000 [==============================] - 3s 42us/step - loss: 0.3277 - val_loss: 0.3294\n",
            "Epoch 57/60\n",
            "60000/60000 [==============================] - 2s 41us/step - loss: 0.3273 - val_loss: 0.3290\n",
            "Epoch 58/60\n",
            "60000/60000 [==============================] - 2s 41us/step - loss: 0.3269 - val_loss: 0.3286\n",
            "Epoch 59/60\n",
            "60000/60000 [==============================] - 2s 41us/step - loss: 0.3265 - val_loss: 0.3283\n",
            "Epoch 60/60\n",
            "60000/60000 [==============================] - 2s 41us/step - loss: 0.3262 - val_loss: 0.3280\n",
            "Model: \"model_4\"\n",
            "_________________________________________________________________\n",
            "Layer (type)                 Output Shape              Param #   \n",
            "=================================================================\n",
            "input_5 (InputLayer)         (None, 784)               0         \n",
            "_________________________________________________________________\n",
            "dense_5 (Dense)              (None, 32)                25120     \n",
            "_________________________________________________________________\n",
            "dense_6 (Dense)              (None, 784)               25872     \n",
            "=================================================================\n",
            "Total params: 50,992\n",
            "Trainable params: 50,992\n",
            "Non-trainable params: 0\n",
            "_________________________________________________________________\n"
          ],
          "name": "stdout"
        }
      ]
    },
    {
      "cell_type": "code",
      "metadata": {
        "id": "Wpz61R-ia_cB",
        "colab_type": "code",
        "colab": {
          "base_uri": "https://localhost:8080/",
          "height": 289
        },
        "outputId": "6ac68843-488f-48b8-a70e-390fc144712b"
      },
      "source": [
        "from sklearn.metrics import confusion_matrix\n",
        "\n",
        "# encode and decode some digits\n",
        "# note that we take them from the *test* set\n",
        "encoded_images = encoder.predict(x_test)\n",
        "\n",
        "clf=GmmMml()\n",
        "clf.fit(encoded_images)\n",
        "cm = confusion_matrix(y_test, clf.predict(encoded_images))\n",
        "print(\"Confusion matrix is\\n\",cm)\n",
        "\n",
        "print('Accuracy: {}\\n'.format(metrics.normalized_mutual_info_score(y_test, clf.predict(encoded_images))))"
      ],
      "execution_count": 26,
      "outputs": [
        {
          "output_type": "stream",
          "text": [
            "Confusion matrix is\n",
            " [[ 36 121   0   0 843   0   0   0   0   0]\n",
            " [ 16   3 830   0 151   0   0   0   0   0]\n",
            " [840 104   0   0  56   0   0   0   0   0]\n",
            " [ 56  15   7   0 922   0   0   0   0   0]\n",
            " [817  37   0   0 146   0   0   0   0   0]\n",
            " [  0 368   0 632   0   0   0   0   0   0]\n",
            " [536 127   0   0 337   0   0   0   0   0]\n",
            " [  0  12   0 988   0   0   0   0   0   0]\n",
            " [  9 958   0  11  22   0   0   0   0   0]\n",
            " [  0 548   0 452   0   0   0   0   0   0]]\n",
            "Accuracy: 0.5537791537659947\n",
            "\n"
          ],
          "name": "stdout"
        },
        {
          "output_type": "stream",
          "text": [
            "/usr/local/lib/python3.6/dist-packages/sklearn/metrics/cluster/supervised.py:859: FutureWarning: The behavior of NMI will change in version 0.22. To match the behavior of 'v_measure_score', NMI will use average_method='arithmetic' by default.\n",
            "  FutureWarning)\n"
          ],
          "name": "stderr"
        }
      ]
    }
  ]
}